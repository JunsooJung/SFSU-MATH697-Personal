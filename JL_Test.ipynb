{
 "cells": [
  {
   "cell_type": "markdown",
   "id": "f67a766f",
   "metadata": {},
   "source": [
    "# Testing Johnson-Lindenstrauss Lemma"
   ]
  },
  {
   "cell_type": "code",
   "execution_count": 1,
   "id": "1ecbd4ed",
   "metadata": {},
   "outputs": [],
   "source": [
    "import numpy as np\n",
    "import numpy.linalg as LA\n",
    "import scipy.stats as STS\n",
    "from matplotlib import pyplot as plt\n",
    "np.random.seed(10)"
   ]
  },
  {
   "cell_type": "code",
   "execution_count": 6,
   "id": "6159612b",
   "metadata": {},
   "outputs": [],
   "source": [
    "def gen_matrix(m,n):\n",
    "    A = np.zeros((m,n))\n",
    "    def gen_column():\n",
    "        ind = np.random.randint(1,5)\n",
    "        if ind == 1:\n",
    "            a = np.random.randint(-1000,1)\n",
    "            b = np.random.randint(1,1000)\n",
    "            col = STS.uniform.rvs(size=m,loc=a,scale=b-a)\n",
    "        elif ind == 2:\n",
    "            a = -10+20*np.random.rand()\n",
    "            b = 2*np.random.rand()\n",
    "            col = STS.norm.rvs(size=m,loc=a,scale=b)\n",
    "        elif ind == 3:\n",
    "            b=2+2*np.random.rand()\n",
    "            col = STS.gamma.rvs(a=b,size=m)\n",
    "        elif ind == 4:\n",
    "            a = 0.5 + 2*np.random.rand() \n",
    "            col = STS.expon.rvs(size=m,scale=a)\n",
    "        return col\n",
    "    for i in range(n):\n",
    "        A[:,i]=gen_column()\n",
    "        \n",
    "    return A"
   ]
  },
  {
   "cell_type": "code",
   "execution_count": 7,
   "id": "b45a56b0",
   "metadata": {},
   "outputs": [],
   "source": [
    "A = gen_matrix(4000,2000)"
   ]
  },
  {
   "cell_type": "code",
   "execution_count": 8,
   "id": "b3e8aa78",
   "metadata": {},
   "outputs": [
    {
     "data": {
      "text/plain": [
       "2000"
      ]
     },
     "execution_count": 8,
     "metadata": {},
     "output_type": "execute_result"
    }
   ],
   "source": [
    "LA.matrix_rank(A) "
   ]
  },
  {
   "cell_type": "code",
   "execution_count": 9,
   "id": "dc70a4b8",
   "metadata": {},
   "outputs": [],
   "source": [
    "def distance(A):  # function to compute the distances between vectors/columns in m-dimension\n",
    "    n = A.shape[1]\n",
    "    dist=[]\n",
    "    for i in range(n):\n",
    "        u=A[:,i]\n",
    "        for j in range(i+1,n):\n",
    "            dist.append(LA.norm(u-A[:,j])**2)\n",
    "            \n",
    "    return dist"
   ]
  },
  {
   "cell_type": "code",
   "execution_count": 10,
   "id": "827c9965",
   "metadata": {},
   "outputs": [],
   "source": [
    "def JLlemma(A,epsilon):\n",
    "    (m,n)=A.shape # n vectors lie in m-dimensional space\n",
    "    k=int(np.ceil(24*np.log(n)/(3*epsilon**2-2*epsilon**3))) # size of lower-dimensional space\n",
    "    Z=np.random.randn(k,m) #Gaussian random matrix\n",
    "    rk=1.0/k\n",
    "    dist=[]\n",
    "    for i in range(n):\n",
    "        u=A[:,i]\n",
    "        for j in range(i+1,n):\n",
    "            dist.append(rk*LA.norm(Z@(u-A[:,j]))**2) \n",
    "            \n",
    "    return dist"
   ]
  },
  {
   "cell_type": "code",
   "execution_count": 11,
   "id": "dccc5999",
   "metadata": {},
   "outputs": [],
   "source": [
    "def test_JLlemma(A,epsilon,dist,nexpts):\n",
    "    npdist = np.array(dist) # dist is the output from the function distance\n",
    "    JLsum = np.zeros((npdist.shape[0],))\n",
    "    for i in range(nexpts): # apply the JLlemma nexpts times\n",
    "        JLsum += np.array(JLlemma(A,epsilon))\n",
    "    # now compute probability of failure\n",
    "    ope = 1.0 + epsilon\n",
    "    ome = 1.0 - epsilon\n",
    "    dscale = JLsum/(float(nexpts)*npdist)\n",
    "    return (sum(dscale <= ome) + sum(dscale >= ope))/float(len(dist)), dscale\n",
    "    \n",
    "    "
   ]
  },
  {
   "cell_type": "code",
   "execution_count": 13,
   "id": "5fa512f9",
   "metadata": {},
   "outputs": [
    {
     "name": "stdout",
     "output_type": "stream",
     "text": [
      "0.0\n"
     ]
    }
   ],
   "source": [
    "failure, scale = test_JLlemma(A,0.2,distance(A),1)\n",
    "print(failure)"
   ]
  },
  {
   "cell_type": "code",
   "execution_count": 16,
   "id": "fb184acf",
   "metadata": {},
   "outputs": [
    {
     "data": {
      "text/plain": [
       "1755"
      ]
     },
     "execution_count": 16,
     "metadata": {},
     "output_type": "execute_result"
    }
   ],
   "source": [
    "epsilon=0.2\n",
    "int(np.ceil(24*np.log(2000)/(3*epsilon**2-2*epsilon**3))) "
   ]
  },
  {
   "cell_type": "code",
   "execution_count": 17,
   "id": "4ee5dcf5",
   "metadata": {},
   "outputs": [
    {
     "data": {
      "text/plain": [
       "<matplotlib.legend.Legend at 0x7f78bae03400>"
      ]
     },
     "execution_count": 17,
     "metadata": {},
     "output_type": "execute_result"
    },
    {
     "data": {
      "image/png": "[encoded data removed]",
      "text/plain": [
       "<Figure size 432x288 with 1 Axes>"
      ]
     },
     "metadata": {
      "needs_background": "light"
     },
     "output_type": "display_data"
    }
   ],
   "source": [
    "lenS=len(scale)\n",
    "x=np.linspace(1,lenS,lenS)\n",
    "import numpy.matlib\n",
    "y1=np.matlib.repmat(np.array(1-epsilon),lenS,1)\n",
    "y2=np.matlib.repmat(np.array(1+epsilon),lenS,1)\n",
    "plt.plot(x,y1,'b-',x,y2,'k-',x,scale,'r.--',markersize=4)\n",
    "plt.legend(['$1-\\epsilon$','$1+\\epsilon$','$||f(x_i)-f(x_j)||^2/||x_i - x_j||^2$'],loc='lower left')"
   ]
  }
 ],
 "metadata": {
  "kernelspec": {
   "display_name": "Python 3 (ipykernel)",
   "language": "python",
   "name": "python3"
  },
  "language_info": {
   "codemirror_mode": {
    "name": "ipython",
    "version": 3
   },
   "file_extension": ".py",
   "mimetype": "text/x-python",
   "name": "python",
   "nbconvert_exporter": "python",
   "pygments_lexer": "ipython3",
   "version": "3.9.7"
  }
 },
 "nbformat": 4,
 "nbformat_minor": 5
}
